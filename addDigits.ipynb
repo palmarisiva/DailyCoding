{
  "nbformat": 4,
  "nbformat_minor": 0,
  "metadata": {
    "colab": {
      "name": "addDigits.ipynb",
      "provenance": []
    },
    "kernelspec": {
      "name": "python3",
      "display_name": "Python 3"
    },
    "language_info": {
      "name": "python"
    }
  },
  "cells": [
    {
      "cell_type": "code",
      "metadata": {
        "colab": {
          "base_uri": "https://localhost:8080/"
        },
        "id": "foCbhRLhbwy9",
        "outputId": "76b0b43d-10e1-444c-dc30-d0078c1ca895"
      },
      "source": [
        "num =32456\n",
        "def mainloop(num: int) -> int:\n",
        "  numstr = str(num)\n",
        "  nummap = map(int, numstr)\n",
        "  list1 = list(nummap)\n",
        "  sum = 0\n",
        "  leng = len(list1)\n",
        "  i = 0\n",
        "  while i < leng:\n",
        "    sum = sum + list1[i]\n",
        "    i += 1\n",
        "  return sum\n",
        "\n",
        "while num >=10:\n",
        "   num = mainloop(num)\n",
        "print(num)\n"
      ],
      "execution_count": 29,
      "outputs": [
        {
          "output_type": "stream",
          "text": [
            "2\n"
          ],
          "name": "stdout"
        }
      ]
    }
  ]
}